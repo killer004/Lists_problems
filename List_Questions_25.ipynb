{
 "cells": [
  {
   "cell_type": "markdown",
   "id": "9c30c15c-9196-4a27-b5aa-419959bb5939",
   "metadata": {},
   "source": [
    "# List"
   ]
  },
  {
   "cell_type": "code",
   "execution_count": 7,
   "id": "ae44db62-dd67-476a-af8a-15d88a867fba",
   "metadata": {},
   "outputs": [
    {
     "name": "stdout",
     "output_type": "stream",
     "text": [
      "[6, 4, 3, 2, 1]\n"
     ]
    }
   ],
   "source": [
    "# 1.Reverse a list without using built-in Reverse?\n",
    "lst=[1,2,3,4,6]\n",
    "reversed_lst=lst[::-1]\n",
    "print(reversed_lst)"
   ]
  },
  {
   "cell_type": "code",
   "execution_count": 11,
   "id": "4500da6f-55a1-4754-9465-98380fdee721",
   "metadata": {},
   "outputs": [
    {
     "name": "stdout",
     "output_type": "stream",
     "text": [
      "[2, 3, 4, 5, 54]\n"
     ]
    }
   ],
   "source": [
    "# 2.Remove duplicates of from a list?\n",
    "lst=[2,3,5,2,54,2,5,4,4,3]\n",
    "duplicates=list(set(lst))\n",
    "print(duplicates)"
   ]
  },
  {
   "cell_type": "code",
   "execution_count": 26,
   "id": "0302a7a5-730b-4af9-9293-1926e7bc4517",
   "metadata": {},
   "outputs": [
    {
     "name": "stdout",
     "output_type": "stream",
     "text": [
      "largest element 28\n"
     ]
    }
   ],
   "source": [
    "# 3.Find the second largest element?\n",
    "lst=[2,3,4,28,5,83]\n",
    "lar=list(set(lst))\n",
    "lst.sort()\n",
    "print(\"largest element\",lst[-2])"
   ]
  },
  {
   "cell_type": "code",
   "execution_count": 27,
   "id": "1e7eef0d-bd21-463d-ad14-868db81f8a1f",
   "metadata": {},
   "outputs": [
    {
     "name": "stdout",
     "output_type": "stream",
     "text": [
      "[1, 2, 2, 3, 3, 4]\n"
     ]
    }
   ],
   "source": [
    "# 4.Flatten a Nested list?\n",
    "nested=[[1,2],[2,3],[3,4]]\n",
    "flat=[item for sublist in nested for item in sublist]\n",
    "print(flat)"
   ]
  },
  {
   "cell_type": "code",
   "execution_count": 28,
   "id": "ba7d0c38-2433-41cf-a874-926479fe660f",
   "metadata": {},
   "outputs": [
    {
     "name": "stdout",
     "output_type": "stream",
     "text": [
      "Counter({2: 3, 1: 2, 3: 1, 42: 1})\n"
     ]
    }
   ],
   "source": [
    "# 5.Count frequency of each element?\n",
    "lst=[2,3,42,1,1,2,2]\n",
    "from collections import Counter\n",
    "print(Counter(lst))"
   ]
  },
  {
   "cell_type": "code",
   "execution_count": 29,
   "id": "44e78b62-23d7-4559-91af-bb51ffd9258e",
   "metadata": {},
   "outputs": [
    {
     "name": "stdout",
     "output_type": "stream",
     "text": [
      "[(1, 5), (2, 4), (4, 2)]\n"
     ]
    }
   ],
   "source": [
    "# 6.Find All pairs with a given sum?\n",
    "lst=[1,2,4,5,2]\n",
    "target=6\n",
    "pairs=[(x,y) for i,x in enumerate(lst) for y in lst[i+1:] if x+y == target]\n",
    "print(pairs)"
   ]
  },
  {
   "cell_type": "code",
   "execution_count": 10,
   "id": "ea2494d0-6948-4336-b1c1-7217516ec4cd",
   "metadata": {},
   "outputs": [
    {
     "name": "stdout",
     "output_type": "stream",
     "text": [
      "True\n",
      "False\n"
     ]
    }
   ],
   "source": [
    "# 7.Check if list is palindrome?\n",
    "lst=[1,2,3,2]\n",
    "l1=[3,2,3,2,3]\n",
    "print(l1 == l1[::-1])\n",
    "print(lst == lst[::-1])\n"
   ]
  },
  {
   "cell_type": "code",
   "execution_count": 14,
   "id": "92cd7f36-3171-4987-86e8-7d6fef5726a4",
   "metadata": {},
   "outputs": [
    {
     "name": "stdout",
     "output_type": "stream",
     "text": [
      "[2, 3, 4, 5, 1]\n"
     ]
    }
   ],
   "source": [
    "# 8.Rotate list by K elements?\n",
    "lst=[1,2,3,4,5]\n",
    "k=1\n",
    "rotated=lst[k:]+ lst[:k]\n",
    "print(rotated)"
   ]
  },
  {
   "cell_type": "code",
   "execution_count": 15,
   "id": "4ad369be-1a45-4dce-b762-b25a59c385db",
   "metadata": {},
   "outputs": [
    {
     "name": "stdout",
     "output_type": "stream",
     "text": [
      "[[1, 2], [3, 4], [5, 6]]\n"
     ]
    }
   ],
   "source": [
    "# 9. Split List into Chunks of Size N?\n",
    "def chunk_list(lst, n):\n",
    "    return [lst[i:i + n] for i in range(0, len(lst), n)]\n",
    "print(chunk_list([1,2,3,4,5,6], 2))"
   ]
  },
  {
   "cell_type": "code",
   "execution_count": 16,
   "id": "57072800-4ab9-4780-bc9e-fe41658ea43b",
   "metadata": {},
   "outputs": [
    {
     "name": "stdout",
     "output_type": "stream",
     "text": [
      "[2, 3]\n"
     ]
    }
   ],
   "source": [
    "# 10. Find Common Elements Between Two Lists?\n",
    "a = [1, 2, 3]\n",
    "b = [2, 3, 4]\n",
    "common = list(set(a) & set(b))\n",
    "print(common)"
   ]
  },
  {
   "cell_type": "code",
   "execution_count": 2,
   "id": "6212ccfb-acc9-49f2-81a1-902f509911ec",
   "metadata": {},
   "outputs": [
    {
     "name": "stdout",
     "output_type": "stream",
     "text": [
      "[0, 1, 4, 9, 16, 25, 36, 49, 64, 81]\n"
     ]
    }
   ],
   "source": [
    "# 11.List Comprehension to create a squares?\n",
    "squares=[x*x for x in range(10)]\n",
    "print(squares)"
   ]
  },
  {
   "cell_type": "code",
   "execution_count": 4,
   "id": "2de325bd-a502-470d-88c5-0c25d7cafe7a",
   "metadata": {},
   "outputs": [
    {
     "name": "stdout",
     "output_type": "stream",
     "text": [
      "[1, 3, 4, 3]\n"
     ]
    }
   ],
   "source": [
    "# 12.Remove all occurances of an element?\n",
    "lst=[1,2,3,4,3,2,2]\n",
    "value=2\n",
    "result=[x for x in lst if x!=value ]\n",
    "print(result)"
   ]
  },
  {
   "cell_type": "code",
   "execution_count": 8,
   "id": "e9e12b5a-8878-4bb7-b571-4375c03d396d",
   "metadata": {},
   "outputs": [
    {
     "name": "stdout",
     "output_type": "stream",
     "text": [
      "[1, 2, 3]\n"
     ]
    }
   ],
   "source": [
    "# 13.Convert list of Strings to integers?\n",
    "a=['1','2','3']\n",
    "b=list(map(int,a))\n",
    "print(b)"
   ]
  },
  {
   "cell_type": "code",
   "execution_count": 7,
   "id": "2374e7bd-b16e-4fd7-8101-7bb7a2b617ae",
   "metadata": {},
   "outputs": [
    {
     "name": "stdout",
     "output_type": "stream",
     "text": [
      "[0, 3, 6]\n"
     ]
    }
   ],
   "source": [
    "# 14.Find Index of All occurances ?\n",
    "lst=[2,1,4,2,3,3,2]\n",
    "value=2\n",
    "result=[i for i,x in enumerate(lst) if x==value]\n",
    "print(result)"
   ]
  },
  {
   "cell_type": "code",
   "execution_count": 9,
   "id": "92b1f46c-89eb-4028-8452-8ea86a18c57c",
   "metadata": {},
   "outputs": [
    {
     "name": "stdout",
     "output_type": "stream",
     "text": [
      "[1, 2, 2, 3, 3, 3, 45, 54]\n"
     ]
    }
   ],
   "source": [
    "# 15.Merge two sorted list?\n",
    "a=[1,2,3,2]\n",
    "b=[54,3,45,3]\n",
    "r=sorted(a+b)\n",
    "print(r)"
   ]
  },
  {
   "cell_type": "code",
   "execution_count": 10,
   "id": "e05eaeda-d9fc-45a2-a883-718143c60a2f",
   "metadata": {},
   "outputs": [
    {
     "name": "stdout",
     "output_type": "stream",
     "text": [
      "26\n"
     ]
    }
   ],
   "source": [
    "# 16.Sum of All Elements?\n",
    "lst=[1,3,22]\n",
    "print(sum(lst))"
   ]
  },
  {
   "cell_type": "code",
   "execution_count": 13,
   "id": "64673026-1e01-4ffc-a706-12a4e6137748",
   "metadata": {},
   "outputs": [
    {
     "name": "stdout",
     "output_type": "stream",
     "text": [
      "115\n"
     ]
    }
   ],
   "source": [
    "# 17.Find maximum Product of Two integers?\n",
    "lst=[2,3,5,5,23,1]\n",
    "lst.sort()\n",
    "print(max(lst[0]*lst[1], lst[2]*lst[3], lst[-1]*lst[-2]))"
   ]
  },
  {
   "cell_type": "code",
   "execution_count": 16,
   "id": "821a32a6-dd99-4423-80af-c6172c857edd",
   "metadata": {},
   "outputs": [
    {
     "name": "stdout",
     "output_type": "stream",
     "text": [
      "[2, 5]\n"
     ]
    }
   ],
   "source": [
    "# 18.Find All duplicates in a list?\n",
    "lst=[1,2,4,5,3,2,5]\n",
    "from collections import Counter\n",
    "dup=[item for item, count in Counter(lst).items() if count > 1]\n",
    "print(dup)"
   ]
  },
  {
   "cell_type": "code",
   "execution_count": 17,
   "id": "59d88b4e-2d24-4340-97eb-fddb17e5e07c",
   "metadata": {},
   "outputs": [
    {
     "name": "stdout",
     "output_type": "stream",
     "text": [
      "True\n"
     ]
    }
   ],
   "source": [
    "# 19.Check if Two lists are Equal(Ignore Order)?\n",
    "a=[1,2,3]\n",
    "b=[3,2,1]\n",
    "print(sorted(a) == sorted(b))"
   ]
  },
  {
   "cell_type": "code",
   "execution_count": 18,
   "id": "ccc4c729-cbd4-4a7c-b284-071d63d7a751",
   "metadata": {},
   "outputs": [
    {
     "name": "stdout",
     "output_type": "stream",
     "text": [
      "[1, 99, 3, 4, 99]\n"
     ]
    }
   ],
   "source": [
    "# 20.Replace Specific Elements?\n",
    "lst=[1,2,3,4,2]\n",
    "lst=[99 if x==2 else x for x in lst]\n",
    "print(lst)"
   ]
  },
  {
   "cell_type": "code",
   "execution_count": 19,
   "id": "3c860142-646f-4a09-93f3-b9b531a2e561",
   "metadata": {},
   "outputs": [
    {
     "name": "stdout",
     "output_type": "stream",
     "text": [
      "[2, 1, 3, 6]\n"
     ]
    }
   ],
   "source": [
    "# 21.Get Only Unique Elements While Preserving Order?\n",
    "lst=[2,1,3,1,6]\n",
    "seen= set()\n",
    "unique=[x for x in lst if not (x in seen or seen.add(x))]\n",
    "print(unique)"
   ]
  },
  {
   "cell_type": "code",
   "execution_count": 22,
   "id": "4a85c388-99be-418b-a26e-54c3fbd2d4c3",
   "metadata": {},
   "outputs": [
    {
     "name": "stdout",
     "output_type": "stream",
     "text": [
      "[(1, 'a'), (2, 'b'), (4, 'c')]\n"
     ]
    }
   ],
   "source": [
    "# 22.Zip Two Lists?\n",
    "a=[1,2,4]\n",
    "b=['a','b','c']\n",
    "z=list(zip(a,b))\n",
    "print(z)"
   ]
  },
  {
   "cell_type": "code",
   "execution_count": 24,
   "id": "b3fc7ba2-0b3b-432a-8a82-1b6a1bfffd35",
   "metadata": {},
   "outputs": [
    {
     "name": "stdout",
     "output_type": "stream",
     "text": [
      "[2, 4, 2, 8]\n"
     ]
    }
   ],
   "source": [
    "# 23.Filter Even Numbers?\n",
    "lst=[2,4,3,2,9,8]\n",
    "even=list(filter(lambda x: x%2 == 0,lst))\n",
    "print(even)"
   ]
  },
  {
   "cell_type": "code",
   "execution_count": 26,
   "id": "acb7cbcc-ebf1-4466-83ef-e930322bea84",
   "metadata": {},
   "outputs": [
    {
     "name": "stdout",
     "output_type": "stream",
     "text": [
      "{(-3, 0, 3)}\n"
     ]
    }
   ],
   "source": [
    "# 24. Find Triplets That Sum to Zero?\n",
    "lst=[-1,2,0,3,2,-3]\n",
    "triplets=set()\n",
    "lst.sort()\n",
    "n = len(lst)\n",
    "for i in range(n):\n",
    "    for j in range(i+1,n):\n",
    "        for k in range(j+1,n):\n",
    "            if lst[i] + lst[j] + lst[k] == 0:\n",
    "                triplets.add((lst[i], lst[j], lst[k]))\n",
    "print(triplets)"
   ]
  },
  {
   "cell_type": "code",
   "execution_count": 27,
   "id": "b858644b-29cb-4296-aa08-c138dc86fe4a",
   "metadata": {},
   "outputs": [
    {
     "name": "stdout",
     "output_type": "stream",
     "text": [
      "{(-1, 0, 1), (-1, -1, 2)}\n"
     ]
    }
   ],
   "source": [
    "lst = [-1, 0, 1, 2, -1, -4]\n",
    "triplets = set()\n",
    "lst.sort()\n",
    "n = len(lst)\n",
    "for i in range(n):\n",
    "    for j in range(i+1, n):\n",
    "        for k in range(j+1, n):\n",
    "            if lst[i] + lst[j] + lst[k] == 0:\n",
    "                triplets.add((lst[i], lst[j], lst[k]))\n",
    "print(triplets)\n"
   ]
  },
  {
   "cell_type": "code",
   "execution_count": 28,
   "id": "7c4aff91-bb46-49b7-826b-c95fd99a194a",
   "metadata": {},
   "outputs": [
    {
     "name": "stdout",
     "output_type": "stream",
     "text": [
      "[(5, 0), (3, 1), (1, 2)]\n"
     ]
    }
   ],
   "source": [
    "# 25.Sort list of Tuples by Second Element?\n",
    "lst=[(1,2), (3,1), (5,0)]\n",
    "s=sorted(lst,key=lambda x: x[1])\n",
    "print(s)"
   ]
  },
  {
   "cell_type": "markdown",
   "id": "bcc717f8-bbd3-45ea-89aa-9c08f9cd2ad8",
   "metadata": {},
   "source": [
    "---"
   ]
  },
  {
   "cell_type": "markdown",
   "id": "a97d4792-aa81-431d-a846-6859fa37369f",
   "metadata": {},
   "source": [
    "---"
   ]
  },
  {
   "cell_type": "code",
   "execution_count": null,
   "id": "3bcdd5ba-fe6f-4cea-9a6b-bc276911ddb9",
   "metadata": {},
   "outputs": [],
   "source": []
  }
 ],
 "metadata": {
  "kernelspec": {
   "display_name": "Python 3 (ipykernel)",
   "language": "python",
   "name": "python3"
  },
  "language_info": {
   "codemirror_mode": {
    "name": "ipython",
    "version": 3
   },
   "file_extension": ".py",
   "mimetype": "text/x-python",
   "name": "python",
   "nbconvert_exporter": "python",
   "pygments_lexer": "ipython3",
   "version": "3.10.16"
  }
 },
 "nbformat": 4,
 "nbformat_minor": 5
}
